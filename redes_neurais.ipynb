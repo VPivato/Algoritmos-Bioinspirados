{
  "nbformat": 4,
  "nbformat_minor": 0,
  "metadata": {
    "colab": {
      "provenance": [],
      "authorship_tag": "ABX9TyO4DhiRdzCWPQ12cMrXqth0",
      "include_colab_link": true
    },
    "kernelspec": {
      "name": "python3",
      "display_name": "Python 3"
    },
    "language_info": {
      "name": "python"
    }
  },
  "cells": [
    {
      "cell_type": "markdown",
      "metadata": {
        "id": "view-in-github",
        "colab_type": "text"
      },
      "source": [
        "<a href=\"https://colab.research.google.com/github/VPivato/Algoritmos-Bioinspirados/blob/main/redes_neurais.ipynb\" target=\"_parent\"><img src=\"https://colab.research.google.com/assets/colab-badge.svg\" alt=\"Open In Colab\"/></a>"
      ]
    },
    {
      "cell_type": "markdown",
      "source": [
        "# Carregamento da base de dados"
      ],
      "metadata": {
        "id": "Bbe4zPMU9fLi"
      }
    },
    {
      "cell_type": "code",
      "source": [
        "import tensorflow\n",
        "import matplotlib.pyplot as plt\n",
        "from tensorflow.keras.models import Sequential # Entrada -> Camadas ocultas -> Saída\n",
        "from tensorflow.keras.layers import Dense # Representa que cada neurônio vai estar ligado a todos os outros\n",
        "from keras.utils import to_categorical\n",
        "from tensorflow.keras.datasets import mnist\n",
        "from numpy import argmax"
      ],
      "metadata": {
        "id": "Xy2Vv21u97zS"
      },
      "execution_count": null,
      "outputs": []
    },
    {
      "cell_type": "code",
      "source": [
        "(x_treinamento, y_treinamento), (x_teste, y_teste) = mnist.load_data() # Carrega a base de dados de números\n",
        "\"\"\"Treinamento: base de dados usada para treinar a rede neural\n",
        "   x_treinamento: armazena os pixels das imagens\n",
        "   y_treinamento: armazena as respostas esperadas\n",
        "\n",
        "   Teste: base de dados usada para testar a rede neural\n",
        "   x_teste: armazena os pixels das imagens\n",
        "   y_teste: armazena as respostas esperadas\n",
        "\"\"\""
      ],
      "metadata": {
        "colab": {
          "base_uri": "https://localhost:8080/",
          "height": 53
        },
        "collapsed": true,
        "id": "fjG3fGlyAQij",
        "outputId": "1df23131-23ca-46d7-9d47-f6924d9d1403"
      },
      "execution_count": null,
      "outputs": [
        {
          "output_type": "execute_result",
          "data": {
            "text/plain": [
              "'Treinamento: base de dados usada para treinar a rede neural\\n   x_treinamento: armazena os pixels das imagens\\n   y_treinamento: armazena as respostas esperadas\\n   \\n   Teste: base de dados usada para testar a rede neural\\n   x_teste: armazena os pixels das imagens\\n   y_teste: armazena as respostas esperadas\\n'"
            ],
            "application/vnd.google.colaboratory.intrinsic+json": {
              "type": "string"
            }
          },
          "metadata": {},
          "execution_count": 115
        }
      ]
    },
    {
      "cell_type": "code",
      "source": [
        "plt.imshow(x_treinamento[0].reshape(28, 28), cmap=\"gray\")\n",
        "plt.title(\"Classe: \" + str(y_treinamento[0]));"
      ],
      "metadata": {
        "colab": {
          "base_uri": "https://localhost:8080/",
          "height": 452
        },
        "id": "HPmLJZbFArOr",
        "outputId": "672ae0f8-28e1-497f-8d0a-a9396781899c"
      },
      "execution_count": null,
      "outputs": [
        {
          "output_type": "display_data",
          "data": {
            "text/plain": [
              "<Figure size 640x480 with 1 Axes>"
            ],
            "image/png": "[encoded data removed]"
          },
          "metadata": {}
        }
      ]
    },
    {
      "cell_type": "code",
      "source": [
        "x_treinamento.shape # 60000 imagens 28x28 pixels\n",
        "x_teste.shape # 10000 imagens 28x28 pixels"
      ],
      "metadata": {
        "colab": {
          "base_uri": "https://localhost:8080/"
        },
        "id": "o4M5oEr0BktD",
        "outputId": "e21f84dc-5f40-45f1-90a0-08a7d99dae31"
      },
      "execution_count": null,
      "outputs": [
        {
          "output_type": "execute_result",
          "data": {
            "text/plain": [
              "(10000, 28, 28)"
            ]
          },
          "metadata": {},
          "execution_count": 117
        }
      ]
    },
    {
      "cell_type": "code",
      "source": [
        "x_treinamento = x_treinamento.reshape(60000, 28 * 28) # Para trabalhar com redes neurais é preciso transformar de matriz para vetor\n",
        "x_teste = x_teste.reshape(10000, 28 * 28)"
      ],
      "metadata": {
        "id": "07QsWItEC1QT"
      },
      "execution_count": null,
      "outputs": []
    },
    {
      "cell_type": "markdown",
      "source": [
        "# Pré-Processamento das Imagens"
      ],
      "metadata": {
        "id": "137zgKWeEaF0"
      }
    },
    {
      "cell_type": "code",
      "source": [
        "x_treinamento = x_treinamento.astype(\"float32\") # Transforma de int para float32\n",
        "x_teste = x_teste.astype(\"float32\")"
      ],
      "metadata": {
        "id": "36j2fjqBElcs"
      },
      "execution_count": null,
      "outputs": []
    },
    {
      "cell_type": "code",
      "source": [
        "x_treinamento = x_treinamento / 255 # Normalização dos dados em uma escala menor (aumenta eficiência)\n",
        "x_teste = x_teste / 255"
      ],
      "metadata": {
        "id": "W-SF4_niFUC8"
      },
      "execution_count": null,
      "outputs": []
    },
    {
      "cell_type": "code",
      "source": [
        "y_treinamento[0] # Número 5"
      ],
      "metadata": {
        "colab": {
          "base_uri": "https://localhost:8080/"
        },
        "id": "K8LG9akcGuDk",
        "outputId": "331f34ad-e05b-413d-e46a-f96e46a17fd4"
      },
      "execution_count": null,
      "outputs": [
        {
          "output_type": "execute_result",
          "data": {
            "text/plain": [
              "np.uint8(5)"
            ]
          },
          "metadata": {},
          "execution_count": 121
        }
      ]
    },
    {
      "cell_type": "code",
      "source": [
        "y_treinamento = to_categorical(y_treinamento) # Representação dos valores em uma lista de 10 indices, representando os numeros de 0 a 9\n",
        "y_treinamento[0] # 0 representa que não é aquele número, 1 significa que é aquele número. Nesse caso, o sexto indice representa o numero 5 (contando do 0)"
      ],
      "metadata": {
        "colab": {
          "base_uri": "https://localhost:8080/"
        },
        "id": "i9qnsaEgG4Xk",
        "outputId": "b5629b31-8740-4bd7-94fe-a1eeeb0185f5"
      },
      "execution_count": null,
      "outputs": [
        {
          "output_type": "execute_result",
          "data": {
            "text/plain": [
              "array([0., 0., 0., 0., 0., 1., 0., 0., 0., 0.])"
            ]
          },
          "metadata": {},
          "execution_count": 122
        }
      ]
    },
    {
      "cell_type": "code",
      "source": [
        "y_teste = to_categorical(y_teste) # Mesmo processo com a base de testes"
      ],
      "metadata": {
        "id": "AhR0rZD2ImOl"
      },
      "execution_count": null,
      "outputs": []
    },
    {
      "cell_type": "markdown",
      "source": [
        "# Arquitetura e treinamento de redes neurais"
      ],
      "metadata": {
        "id": "XZr-AM129qyC"
      }
    },
    {
      "cell_type": "code",
      "source": [
        "# 784 -> 397 -> 397 -> 10\n",
        "# Entradas -> camada oculta -> camada oculta > Saída\n",
        "rede_neural = Sequential()\n",
        "rede_neural.add(Dense(input_shape=(784, ), # Quantidade de neurônios na camada de entrada\n",
        "                      units=397, # Ligação entre camada de entrasda com a primeira camada oculta\n",
        "                      activation=\"relu\" # Função de ativação (relu, softmax, sigmoid etc)\n",
        "                      ))\n",
        "# Ligação entre primeira camada oculta com a segunda camada oculta\n",
        "rede_neural.add(Dense(units=397, activation=\"relu\"))\n",
        "# Adição da camada de saída\n",
        "rede_neural.add(Dense(units=10, activation=\"softmax\"))"
      ],
      "metadata": {
        "colab": {
          "base_uri": "https://localhost:8080/"
        },
        "id": "-jy65GMfJIm9",
        "outputId": "04504e3b-3f2f-4d5d-cf09-ce21fa2d3e22"
      },
      "execution_count": null,
      "outputs": [
        {
          "output_type": "stream",
          "name": "stderr",
          "text": [
            "/usr/local/lib/python3.11/dist-packages/keras/src/layers/core/dense.py:87: UserWarning: Do not pass an `input_shape`/`input_dim` argument to a layer. When using Sequential models, prefer using an `Input(shape)` object as the first layer in the model instead.\n",
            "  super().__init__(activity_regularizer=activity_regularizer, **kwargs)\n"
          ]
        }
      ]
    },
    {
      "cell_type": "code",
      "source": [
        "# Definição de alguns parâmetros\n",
        "rede_neural.compile(loss=\"categorical_crossentropy\", # Calculo do erro\n",
        "                    optimizer=\"adam\", # Algoritmo de atualização dos pesos, descida do gradiente melhorada\n",
        "                    metrics=[\"accuracy\"] # Métricas para avaliação, precisão de acerto\n",
        "                    )"
      ],
      "metadata": {
        "id": "hU9VAfp8Lgtt"
      },
      "execution_count": null,
      "outputs": []
    },
    {
      "cell_type": "code",
      "source": [
        "# Treinamento da rede neural\n",
        "historico = rede_neural.fit(x_treinamento, y_treinamento,\n",
        "                            batch_size=128, # batch_size=128 > atualização dos pesos de 128 em 128\n",
        "                            epochs=50 # Número de épocas/gerações/iterações\n",
        "                            )"
      ],
      "metadata": {
        "colab": {
          "base_uri": "https://localhost:8080/"
        },
        "id": "eaqIEyoEMjWN",
        "outputId": "58bb7e8e-13bd-48a6-c940-d5b2ae054184"
      },
      "execution_count": null,
      "outputs": [
        {
          "output_type": "stream",
          "name": "stdout",
          "text": [
            "Epoch 1/50\n",
            "\u001b[1m469/469\u001b[0m \u001b[32m━━━━━━━━━━━━━━━━━━━━\u001b[0m\u001b[37m\u001b[0m \u001b[1m8s\u001b[0m 14ms/step - accuracy: 0.8777 - loss: 0.4196\n",
            "Epoch 2/50\n",
            "\u001b[1m469/469\u001b[0m \u001b[32m━━━━━━━━━━━━━━━━━━━━\u001b[0m\u001b[37m\u001b[0m \u001b[1m10s\u001b[0m 15ms/step - accuracy: 0.9736 - loss: 0.0875\n",
            "Epoch 3/50\n",
            "\u001b[1m469/469\u001b[0m \u001b[32m━━━━━━━━━━━━━━━━━━━━\u001b[0m\u001b[37m\u001b[0m \u001b[1m6s\u001b[0m 13ms/step - accuracy: 0.9831 - loss: 0.0548\n",
            "Epoch 4/50\n",
            "\u001b[1m469/469\u001b[0m \u001b[32m━━━━━━━━━━━━━━━━━━━━\u001b[0m\u001b[37m\u001b[0m \u001b[1m7s\u001b[0m 15ms/step - accuracy: 0.9887 - loss: 0.0364\n",
            "Epoch 5/50\n",
            "\u001b[1m469/469\u001b[0m \u001b[32m━━━━━━━━━━━━━━━━━━━━\u001b[0m\u001b[37m\u001b[0m \u001b[1m6s\u001b[0m 13ms/step - accuracy: 0.9913 - loss: 0.0280\n",
            "Epoch 6/50\n",
            "\u001b[1m469/469\u001b[0m \u001b[32m━━━━━━━━━━━━━━━━━━━━\u001b[0m\u001b[37m\u001b[0m \u001b[1m10s\u001b[0m 13ms/step - accuracy: 0.9936 - loss: 0.0203\n",
            "Epoch 7/50\n",
            "\u001b[1m469/469\u001b[0m \u001b[32m━━━━━━━━━━━━━━━━━━━━\u001b[0m\u001b[37m\u001b[0m \u001b[1m7s\u001b[0m 15ms/step - accuracy: 0.9943 - loss: 0.0175\n",
            "Epoch 8/50\n",
            "\u001b[1m469/469\u001b[0m \u001b[32m━━━━━━━━━━━━━━━━━━━━\u001b[0m\u001b[37m\u001b[0m \u001b[1m10s\u001b[0m 13ms/step - accuracy: 0.9950 - loss: 0.0161\n",
            "Epoch 9/50\n",
            "\u001b[1m469/469\u001b[0m \u001b[32m━━━━━━━━━━━━━━━━━━━━\u001b[0m\u001b[37m\u001b[0m \u001b[1m7s\u001b[0m 14ms/step - accuracy: 0.9951 - loss: 0.0137\n",
            "Epoch 10/50\n",
            "\u001b[1m469/469\u001b[0m \u001b[32m━━━━━━━━━━━━━━━━━━━━\u001b[0m\u001b[37m\u001b[0m \u001b[1m6s\u001b[0m 13ms/step - accuracy: 0.9951 - loss: 0.0154\n",
            "Epoch 11/50\n",
            "\u001b[1m469/469\u001b[0m \u001b[32m━━━━━━━━━━━━━━━━━━━━\u001b[0m\u001b[37m\u001b[0m \u001b[1m10s\u001b[0m 13ms/step - accuracy: 0.9958 - loss: 0.0124\n",
            "Epoch 12/50\n",
            "\u001b[1m469/469\u001b[0m \u001b[32m━━━━━━━━━━━━━━━━━━━━\u001b[0m\u001b[37m\u001b[0m \u001b[1m10s\u001b[0m 12ms/step - accuracy: 0.9965 - loss: 0.0120\n",
            "Epoch 13/50\n",
            "\u001b[1m469/469\u001b[0m \u001b[32m━━━━━━━━━━━━━━━━━━━━\u001b[0m\u001b[37m\u001b[0m \u001b[1m7s\u001b[0m 15ms/step - accuracy: 0.9956 - loss: 0.0117\n",
            "Epoch 14/50\n",
            "\u001b[1m469/469\u001b[0m \u001b[32m━━━━━━━━━━━━━━━━━━━━\u001b[0m\u001b[37m\u001b[0m \u001b[1m10s\u001b[0m 13ms/step - accuracy: 0.9973 - loss: 0.0085\n",
            "Epoch 15/50\n",
            "\u001b[1m469/469\u001b[0m \u001b[32m━━━━━━━━━━━━━━━━━━━━\u001b[0m\u001b[37m\u001b[0m \u001b[1m10s\u001b[0m 12ms/step - accuracy: 0.9972 - loss: 0.0091\n",
            "Epoch 16/50\n",
            "\u001b[1m469/469\u001b[0m \u001b[32m━━━━━━━━━━━━━━━━━━━━\u001b[0m\u001b[37m\u001b[0m \u001b[1m10s\u001b[0m 13ms/step - accuracy: 0.9971 - loss: 0.0087\n",
            "Epoch 17/50\n",
            "\u001b[1m469/469\u001b[0m \u001b[32m━━━━━━━━━━━━━━━━━━━━\u001b[0m\u001b[37m\u001b[0m \u001b[1m7s\u001b[0m 15ms/step - accuracy: 0.9981 - loss: 0.0053\n",
            "Epoch 18/50\n",
            "\u001b[1m469/469\u001b[0m \u001b[32m━━━━━━━━━━━━━━━━━━━━\u001b[0m\u001b[37m\u001b[0m \u001b[1m10s\u001b[0m 15ms/step - accuracy: 0.9978 - loss: 0.0063\n",
            "Epoch 19/50\n",
            "\u001b[1m469/469\u001b[0m \u001b[32m━━━━━━━━━━━━━━━━━━━━\u001b[0m\u001b[37m\u001b[0m \u001b[1m6s\u001b[0m 13ms/step - accuracy: 0.9970 - loss: 0.0086\n",
            "Epoch 20/50\n",
            "\u001b[1m469/469\u001b[0m \u001b[32m━━━━━━━━━━━━━━━━━━━━\u001b[0m\u001b[37m\u001b[0m \u001b[1m7s\u001b[0m 15ms/step - accuracy: 0.9968 - loss: 0.0094\n",
            "Epoch 21/50\n",
            "\u001b[1m469/469\u001b[0m \u001b[32m━━━━━━━━━━━━━━━━━━━━\u001b[0m\u001b[37m\u001b[0m \u001b[1m9s\u001b[0m 13ms/step - accuracy: 0.9979 - loss: 0.0054\n",
            "Epoch 22/50\n",
            "\u001b[1m469/469\u001b[0m \u001b[32m━━━━━━━━━━━━━━━━━━━━\u001b[0m\u001b[37m\u001b[0m \u001b[1m7s\u001b[0m 15ms/step - accuracy: 0.9984 - loss: 0.0043\n",
            "Epoch 23/50\n",
            "\u001b[1m469/469\u001b[0m \u001b[32m━━━━━━━━━━━━━━━━━━━━\u001b[0m\u001b[37m\u001b[0m \u001b[1m6s\u001b[0m 13ms/step - accuracy: 0.9974 - loss: 0.0065\n",
            "Epoch 24/50\n",
            "\u001b[1m469/469\u001b[0m \u001b[32m━━━━━━━━━━━━━━━━━━━━\u001b[0m\u001b[37m\u001b[0m \u001b[1m7s\u001b[0m 15ms/step - accuracy: 0.9984 - loss: 0.0053\n",
            "Epoch 25/50\n",
            "\u001b[1m469/469\u001b[0m \u001b[32m━━━━━━━━━━━━━━━━━━━━\u001b[0m\u001b[37m\u001b[0m \u001b[1m12s\u001b[0m 17ms/step - accuracy: 0.9975 - loss: 0.0071\n",
            "Epoch 26/50\n",
            "\u001b[1m469/469\u001b[0m \u001b[32m━━━━━━━━━━━━━━━━━━━━\u001b[0m\u001b[37m\u001b[0m \u001b[1m6s\u001b[0m 12ms/step - accuracy: 0.9986 - loss: 0.0046\n",
            "Epoch 27/50\n",
            "\u001b[1m469/469\u001b[0m \u001b[32m━━━━━━━━━━━━━━━━━━━━\u001b[0m\u001b[37m\u001b[0m \u001b[1m7s\u001b[0m 15ms/step - accuracy: 0.9977 - loss: 0.0084\n",
            "Epoch 28/50\n",
            "\u001b[1m469/469\u001b[0m \u001b[32m━━━━━━━━━━━━━━━━━━━━\u001b[0m\u001b[37m\u001b[0m \u001b[1m6s\u001b[0m 13ms/step - accuracy: 0.9990 - loss: 0.0030\n",
            "Epoch 29/50\n",
            "\u001b[1m469/469\u001b[0m \u001b[32m━━━━━━━━━━━━━━━━━━━━\u001b[0m\u001b[37m\u001b[0m \u001b[1m11s\u001b[0m 13ms/step - accuracy: 0.9988 - loss: 0.0036\n",
            "Epoch 30/50\n",
            "\u001b[1m469/469\u001b[0m \u001b[32m━━━━━━━━━━━━━━━━━━━━\u001b[0m\u001b[37m\u001b[0m \u001b[1m11s\u001b[0m 15ms/step - accuracy: 0.9991 - loss: 0.0026\n",
            "Epoch 31/50\n",
            "\u001b[1m469/469\u001b[0m \u001b[32m━━━━━━━━━━━━━━━━━━━━\u001b[0m\u001b[37m\u001b[0m \u001b[1m10s\u001b[0m 15ms/step - accuracy: 0.9984 - loss: 0.0057\n",
            "Epoch 32/50\n",
            "\u001b[1m469/469\u001b[0m \u001b[32m━━━━━━━━━━━━━━━━━━━━\u001b[0m\u001b[37m\u001b[0m \u001b[1m6s\u001b[0m 13ms/step - accuracy: 0.9976 - loss: 0.0078\n",
            "Epoch 33/50\n",
            "\u001b[1m469/469\u001b[0m \u001b[32m━━━━━━━━━━━━━━━━━━━━\u001b[0m\u001b[37m\u001b[0m \u001b[1m7s\u001b[0m 15ms/step - accuracy: 0.9974 - loss: 0.0078\n",
            "Epoch 34/50\n",
            "\u001b[1m469/469\u001b[0m \u001b[32m━━━━━━━━━━━━━━━━━━━━\u001b[0m\u001b[37m\u001b[0m \u001b[1m6s\u001b[0m 13ms/step - accuracy: 0.9996 - loss: 0.0015\n",
            "Epoch 35/50\n",
            "\u001b[1m469/469\u001b[0m \u001b[32m━━━━━━━━━━━━━━━━━━━━\u001b[0m\u001b[37m\u001b[0m \u001b[1m11s\u001b[0m 14ms/step - accuracy: 0.9999 - loss: 2.0696e-04\n",
            "Epoch 36/50\n",
            "\u001b[1m469/469\u001b[0m \u001b[32m━━━━━━━━━━━━━━━━━━━━\u001b[0m\u001b[37m\u001b[0m \u001b[1m6s\u001b[0m 14ms/step - accuracy: 1.0000 - loss: 1.8422e-05\n",
            "Epoch 37/50\n",
            "\u001b[1m469/469\u001b[0m \u001b[32m━━━━━━━━━━━━━━━━━━━━\u001b[0m\u001b[37m\u001b[0m \u001b[1m10s\u001b[0m 12ms/step - accuracy: 1.0000 - loss: 1.4251e-05\n",
            "Epoch 38/50\n",
            "\u001b[1m469/469\u001b[0m \u001b[32m━━━━━━━━━━━━━━━━━━━━\u001b[0m\u001b[37m\u001b[0m \u001b[1m10s\u001b[0m 13ms/step - accuracy: 1.0000 - loss: 1.1393e-05\n",
            "Epoch 39/50\n",
            "\u001b[1m469/469\u001b[0m \u001b[32m━━━━━━━━━━━━━━━━━━━━\u001b[0m\u001b[37m\u001b[0m \u001b[1m7s\u001b[0m 15ms/step - accuracy: 1.0000 - loss: 8.5840e-06\n",
            "Epoch 40/50\n",
            "\u001b[1m469/469\u001b[0m \u001b[32m━━━━━━━━━━━━━━━━━━━━\u001b[0m\u001b[37m\u001b[0m \u001b[1m6s\u001b[0m 13ms/step - accuracy: 1.0000 - loss: 7.6146e-06\n",
            "Epoch 41/50\n",
            "\u001b[1m469/469\u001b[0m \u001b[32m━━━━━━━━━━━━━━━━━━━━\u001b[0m\u001b[37m\u001b[0m \u001b[1m10s\u001b[0m 13ms/step - accuracy: 1.0000 - loss: 5.4183e-06\n",
            "Epoch 42/50\n",
            "\u001b[1m469/469\u001b[0m \u001b[32m━━━━━━━━━━━━━━━━━━━━\u001b[0m\u001b[37m\u001b[0m \u001b[1m10s\u001b[0m 13ms/step - accuracy: 1.0000 - loss: 4.4934e-06\n",
            "Epoch 43/50\n",
            "\u001b[1m469/469\u001b[0m \u001b[32m━━━━━━━━━━━━━━━━━━━━\u001b[0m\u001b[37m\u001b[0m \u001b[1m7s\u001b[0m 15ms/step - accuracy: 1.0000 - loss: 3.5812e-06\n",
            "Epoch 44/50\n",
            "\u001b[1m469/469\u001b[0m \u001b[32m━━━━━━━━━━━━━━━━━━━━\u001b[0m\u001b[37m\u001b[0m \u001b[1m6s\u001b[0m 13ms/step - accuracy: 1.0000 - loss: 2.9443e-06\n",
            "Epoch 45/50\n",
            "\u001b[1m469/469\u001b[0m \u001b[32m━━━━━━━━━━━━━━━━━━━━\u001b[0m\u001b[37m\u001b[0m \u001b[1m8s\u001b[0m 17ms/step - accuracy: 1.0000 - loss: 2.3277e-06\n",
            "Epoch 46/50\n",
            "\u001b[1m469/469\u001b[0m \u001b[32m━━━━━━━━━━━━━━━━━━━━\u001b[0m\u001b[37m\u001b[0m \u001b[1m6s\u001b[0m 13ms/step - accuracy: 1.0000 - loss: 1.8642e-06\n",
            "Epoch 47/50\n",
            "\u001b[1m469/469\u001b[0m \u001b[32m━━━━━━━━━━━━━━━━━━━━\u001b[0m\u001b[37m\u001b[0m \u001b[1m7s\u001b[0m 15ms/step - accuracy: 1.0000 - loss: 1.4532e-06\n",
            "Epoch 48/50\n",
            "\u001b[1m469/469\u001b[0m \u001b[32m━━━━━━━━━━━━━━━━━━━━\u001b[0m\u001b[37m\u001b[0m \u001b[1m6s\u001b[0m 13ms/step - accuracy: 1.0000 - loss: 1.1971e-06\n",
            "Epoch 49/50\n",
            "\u001b[1m469/469\u001b[0m \u001b[32m━━━━━━━━━━━━━━━━━━━━\u001b[0m\u001b[37m\u001b[0m \u001b[1m10s\u001b[0m 13ms/step - accuracy: 1.0000 - loss: 9.8741e-07\n",
            "Epoch 50/50\n",
            "\u001b[1m469/469\u001b[0m \u001b[32m━━━━━━━━━━━━━━━━━━━━\u001b[0m\u001b[37m\u001b[0m \u001b[1m7s\u001b[0m 16ms/step - accuracy: 1.0000 - loss: 7.7623e-07\n"
          ]
        }
      ]
    },
    {
      "cell_type": "markdown",
      "source": [
        "# Avaliação"
      ],
      "metadata": {
        "id": "qxSD3aiUR1H3"
      }
    },
    {
      "cell_type": "code",
      "source": [
        "historico.history.keys()"
      ],
      "metadata": {
        "colab": {
          "base_uri": "https://localhost:8080/"
        },
        "id": "xo1WqY7iR2sv",
        "outputId": "98d02d38-7466-42fd-ffd0-c819d944ec4c"
      },
      "execution_count": null,
      "outputs": [
        {
          "output_type": "execute_result",
          "data": {
            "text/plain": [
              "dict_keys(['accuracy', 'loss'])"
            ]
          },
          "metadata": {},
          "execution_count": 127
        }
      ]
    },
    {
      "cell_type": "code",
      "source": [
        "plt.plot(historico.history[\"loss\"])\n",
        "plt.title(\"Erro por épocas\")\n",
        "plt.xlabel(\"Epochs\")\n",
        "plt.ylabel(\"Loss\");"
      ],
      "metadata": {
        "colab": {
          "base_uri": "https://localhost:8080/",
          "height": 472
        },
        "id": "bnpQ4qQQR68W",
        "outputId": "e61593cf-8d8e-4de2-d97c-46770af72661"
      },
      "execution_count": null,
      "outputs": [
        {
          "output_type": "display_data",
          "data": {
            "text/plain": [
              "<Figure size 640x480 with 1 Axes>"
            ],
            "image/png": "[encoded data removed]"
          },
          "metadata": {}
        }
      ]
    },
    {
      "cell_type": "code",
      "source": [
        "plt.plot(historico.history[\"accuracy\"])\n",
        "plt.title(\"Precisão por épocas\")\n",
        "plt.xlabel(\"Epochs\")\n",
        "plt.ylabel(\"Accuracy\");"
      ],
      "metadata": {
        "colab": {
          "base_uri": "https://localhost:8080/",
          "height": 472
        },
        "id": "U2m1CSEtSd6_",
        "outputId": "2c143a90-f883-49a4-a310-129ac54cafdd"
      },
      "execution_count": null,
      "outputs": [
        {
          "output_type": "display_data",
          "data": {
            "text/plain": [
              "<Figure size 640x480 with 1 Axes>"
            ],
            "image/png": "[encoded data removed]"
          },
          "metadata": {}
        }
      ]
    },
    {
      "cell_type": "code",
      "source": [
        "rede_neural.evaluate(x_teste, y_teste) # Com a rede neural já treinada, testa com a base de dados de teste"
      ],
      "metadata": {
        "colab": {
          "base_uri": "https://localhost:8080/"
        },
        "id": "_CqTwfhKS3Hf",
        "outputId": "5d3094fc-5205-49ab-b939-e90051cd1cc8"
      },
      "execution_count": null,
      "outputs": [
        {
          "output_type": "stream",
          "name": "stdout",
          "text": [
            "\u001b[1m313/313\u001b[0m \u001b[32m━━━━━━━━━━━━━━━━━━━━\u001b[0m\u001b[37m\u001b[0m \u001b[1m1s\u001b[0m 4ms/step - accuracy: 0.9850 - loss: 0.1164\n"
          ]
        },
        {
          "output_type": "execute_result",
          "data": {
            "text/plain": [
              "[0.10015477240085602, 0.9868999719619751]"
            ]
          },
          "metadata": {},
          "execution_count": 134
        }
      ]
    },
    {
      "cell_type": "code",
      "source": [
        "previsoes = rede_neural.predict(x_teste) # Outra forma de testar a rede neural treinada"
      ],
      "metadata": {
        "colab": {
          "base_uri": "https://localhost:8080/"
        },
        "id": "x9APK1euTHA2",
        "outputId": "8a7ea856-51a4-4cbd-b817-22c5025b07e5"
      },
      "execution_count": null,
      "outputs": [
        {
          "output_type": "stream",
          "name": "stdout",
          "text": [
            "\u001b[1m313/313\u001b[0m \u001b[32m━━━━━━━━━━━━━━━━━━━━\u001b[0m\u001b[37m\u001b[0m \u001b[1m1s\u001b[0m 3ms/step\n"
          ]
        }
      ]
    },
    {
      "cell_type": "code",
      "source": [
        "print(previsoes[1]) # Mostra a probabilidade que a rede neural definiu de ser cada número\n",
        "print(y_teste[1]) # Resposta\n",
        "# Acertou"
      ],
      "metadata": {
        "colab": {
          "base_uri": "https://localhost:8080/"
        },
        "id": "eul-TGd3TtRP",
        "outputId": "80c972f1-136c-49ca-8fd2-c6776f559532"
      },
      "execution_count": null,
      "outputs": [
        {
          "output_type": "stream",
          "name": "stdout",
          "text": [
            "[4.2379127e-26 2.5229798e-17 9.9999994e-01 8.2876870e-26 3.3323170e-35\n",
            " 6.2922953e-28 8.6083531e-22 5.4526685e-24 3.2146230e-21 1.3229091e-33]\n",
            "[0. 0. 1. 0. 0. 0. 0. 0. 0. 0.]\n"
          ]
        }
      ]
    },
    {
      "cell_type": "code",
      "source": [
        "plt.imshow(x_teste[1].reshape(28, 28), cmap=\"gray\")\n",
        "plt.title(\"Classe: \" + str(argmax(y_teste[1]))) # argmax retorna o índice do maior valor de um vetor"
      ],
      "metadata": {
        "colab": {
          "base_uri": "https://localhost:8080/",
          "height": 469
        },
        "id": "4j4Cs-XCUSFv",
        "outputId": "07b7ad8a-0e76-43d9-a420-6276906c4a38"
      },
      "execution_count": null,
      "outputs": [
        {
          "output_type": "execute_result",
          "data": {
            "text/plain": [
              "Text(0.5, 1.0, 'Classe: 2')"
            ]
          },
          "metadata": {},
          "execution_count": 152
        },
        {
          "output_type": "display_data",
          "data": {
            "text/plain": [
              "<Figure size 640x480 with 1 Axes>"
            ],
            "image/png": "[encoded data removed]"
          },
          "metadata": {}
        }
      ]
    },
    {
      "cell_type": "markdown",
      "source": [
        "# Classifição de uma única imagem"
      ],
      "metadata": {
        "id": "ZwsRMifnVM34"
      }
    },
    {
      "cell_type": "code",
      "source": [
        "import cv2\n",
        "from google.colab.patches import cv2_imshow"
      ],
      "metadata": {
        "id": "pR1KR9j-VmiH"
      },
      "execution_count": null,
      "outputs": []
    },
    {
      "cell_type": "code",
      "source": [
        "imagem_teste = cv2.imread(\"/content/digito.png\")"
      ],
      "metadata": {
        "id": "oDPmQ5MuVQuf"
      },
      "execution_count": null,
      "outputs": []
    },
    {
      "cell_type": "code",
      "source": [
        "cv2_imshow(imagem_teste)"
      ],
      "metadata": {
        "colab": {
          "base_uri": "https://localhost:8080/",
          "height": 469
        },
        "id": "Z-YNQ2UzVvGv",
        "outputId": "9a978bdd-905c-4b8c-e7f9-a5f66bb797bd"
      },
      "execution_count": null,
      "outputs": [
        {
          "output_type": "display_data",
          "data": {
            "text/plain": [
              "<PIL.Image.Image image mode=RGB size=451x452>"
            ],
            "image/png": "[encoded data removed]",
            "image/jpeg": "[encoded data removed]"
          },
          "metadata": {}
        }
      ]
    },
    {
      "cell_type": "code",
      "source": [
        "imagem_teste.shape # Vai ser preciso redimensionar para 28x28, pois foi nessa escala que a rede neural foi treinada\n",
        "# Também é preciso retirar o terceiro indice"
      ],
      "metadata": {
        "colab": {
          "base_uri": "https://localhost:8080/"
        },
        "id": "HJI2oM2YV6Xf",
        "outputId": "7fe8c481-0413-4969-b0ee-6c5d5f7366ba"
      },
      "execution_count": null,
      "outputs": [
        {
          "output_type": "execute_result",
          "data": {
            "text/plain": [
              "(452, 451, 3)"
            ]
          },
          "metadata": {},
          "execution_count": 160
        }
      ]
    },
    {
      "cell_type": "code",
      "source": [
        "imagem_teste = cv2.resize(imagem_teste, (28, 28))"
      ],
      "metadata": {
        "id": "Wh1CIzXuWEy3"
      },
      "execution_count": null,
      "outputs": []
    },
    {
      "cell_type": "code",
      "source": [
        "imagem_teste = cv2.cvtColor(imagem_teste, cv2.COLOR_BGR2GRAY)\n",
        "imagem_teste.shape"
      ],
      "metadata": {
        "colab": {
          "base_uri": "https://localhost:8080/"
        },
        "id": "RU8yEZLOWkJw",
        "outputId": "30556579-2ab9-45d8-b77e-881fdbfdf144"
      },
      "execution_count": null,
      "outputs": [
        {
          "output_type": "execute_result",
          "data": {
            "text/plain": [
              "(28, 28)"
            ]
          },
          "metadata": {},
          "execution_count": 162
        }
      ]
    },
    {
      "cell_type": "code",
      "source": [
        "plt.imshow(imagem_teste, cmap=\"gray\");"
      ],
      "metadata": {
        "colab": {
          "base_uri": "https://localhost:8080/",
          "height": 430
        },
        "id": "7DRQQDGiW2Fw",
        "outputId": "346c0ce0-8366-43c4-fd5d-87b328ace523"
      },
      "execution_count": null,
      "outputs": [
        {
          "output_type": "display_data",
          "data": {
            "text/plain": [
              "<Figure size 640x480 with 1 Axes>"
            ],
            "image/png": "[encoded data removed]"
          },
          "metadata": {}
        }
      ]
    },
    {
      "cell_type": "code",
      "source": [
        "imagem_teste = imagem_teste.reshape(1, 28 * 28) # Transforma de matriz para vetor\n",
        "imagem_teste.shape"
      ],
      "metadata": {
        "colab": {
          "base_uri": "https://localhost:8080/"
        },
        "id": "zgoUvsqAW6b4",
        "outputId": "a2b634ca-6f31-4ce1-ed46-ed7cd46ff84a"
      },
      "execution_count": null,
      "outputs": [
        {
          "output_type": "execute_result",
          "data": {
            "text/plain": [
              "(1, 784)"
            ]
          },
          "metadata": {},
          "execution_count": 170
        }
      ]
    },
    {
      "cell_type": "code",
      "source": [
        "imagem_teste = imagem_teste.astype(\"float32\")"
      ],
      "metadata": {
        "id": "hrtdGmNQX6Uo"
      },
      "execution_count": null,
      "outputs": []
    },
    {
      "cell_type": "code",
      "source": [
        "imagem_teste = imagem_teste / 255 # Normalização para a mesma escala de valores em que a rede neural foi treinada"
      ],
      "metadata": {
        "id": "VLnSBDqAXG8n"
      },
      "execution_count": null,
      "outputs": []
    },
    {
      "cell_type": "code",
      "source": [
        "previsao = rede_neural.predict(imagem_teste)"
      ],
      "metadata": {
        "colab": {
          "base_uri": "https://localhost:8080/"
        },
        "id": "-4WvQPN5XS0I",
        "outputId": "962091da-d5fe-4ab8-aa4b-fcc590e6a301"
      },
      "execution_count": null,
      "outputs": [
        {
          "output_type": "stream",
          "name": "stdout",
          "text": [
            "\u001b[1m1/1\u001b[0m \u001b[32m━━━━━━━━━━━━━━━━━━━━\u001b[0m\u001b[37m\u001b[0m \u001b[1m0s\u001b[0m 54ms/step\n"
          ]
        }
      ]
    },
    {
      "cell_type": "code",
      "source": [
        "previsao"
      ],
      "metadata": {
        "colab": {
          "base_uri": "https://localhost:8080/"
        },
        "id": "cLkoji36XVtw",
        "outputId": "a8841377-2cd7-4d80-f3e3-5e7d3f1a007c"
      },
      "execution_count": null,
      "outputs": [
        {
          "output_type": "execute_result",
          "data": {
            "text/plain": [
              "array([[0.00000000e+00, 5.70668553e-37, 7.88909156e-34, 1.00000000e+00,\n",
              "        0.00000000e+00, 1.00036325e-36, 0.00000000e+00, 0.00000000e+00,\n",
              "        1.19302222e-32, 0.00000000e+00]], dtype=float32)"
            ]
          },
          "metadata": {},
          "execution_count": 174
        }
      ]
    },
    {
      "cell_type": "code",
      "source": [
        "argmax(previsao)"
      ],
      "metadata": {
        "colab": {
          "base_uri": "https://localhost:8080/"
        },
        "id": "84L3STjKXcqx",
        "outputId": "1e6c7322-07d2-496c-d574-63fa5f90322c"
      },
      "execution_count": null,
      "outputs": [
        {
          "output_type": "execute_result",
          "data": {
            "text/plain": [
              "np.int64(3)"
            ]
          },
          "metadata": {},
          "execution_count": 175
        }
      ]
    }
  ]
}
{
  "nbformat": 4,
  "nbformat_minor": 0,
  "metadata": {
    "colab": {
      "provenance": [],
      "authorship_tag": "ABX9TyM3fPLj+HX6Lsvfayi/9L4O",
      "include_colab_link": true
    },
    "kernelspec": {
      "name": "python3",
      "display_name": "Python 3"
    },
    "language_info": {
      "name": "python"
    }
  },
  "cells": [
    {
      "cell_type": "markdown",
      "metadata": {
        "id": "view-in-github",
        "colab_type": "text"
      },
      "source": [
        "<a href=\"https://colab.research.google.com/github/VPivato/Algoritmos-Bioinspirados/blob/main/colonia_formigas.ipynb\" target=\"_parent\"><img src=\"https://colab.research.google.com/assets/colab-badge.svg\" alt=\"Open In Colab\"/></a>"
      ]
    },
    {
      "cell_type": "code",
      "source": [
        "import random"
      ],
      "metadata": {
        "id": "vZOp3JMx23yg"
      },
      "execution_count": 251,
      "outputs": []
    },
    {
      "cell_type": "markdown",
      "source": [
        "# Criando as arestas"
      ],
      "metadata": {
        "id": "Hf9kEMnxx_5o"
      }
    },
    {
      "cell_type": "code",
      "execution_count": 252,
      "metadata": {
        "id": "VrEaZ7vrwEe9"
      },
      "outputs": [],
      "source": [
        "# Nome, adjacentes, distância, qte feromônio\n",
        "ab = [\"AB\", [\"BD\", \"BE\", \"BC\"], 5, 1]\n",
        "ac = [\"AC\", [\"CB\", \"CD\", \"CE\"], 6, 1]\n",
        "ae = [\"AE\", [], 30, 1]\n",
        "bd = [\"BD\", [\"DE\", \"DC\"], 6, 1]\n",
        "be = [\"BE\", [], 16, 1]\n",
        "bc = [\"BC\", [\"CD\", \"CE\"], 11, 1]\n",
        "cb = [\"CB\", [\"BD\", \"BE\"], 11, 1]\n",
        "cd = [\"CD\", [\"DE\"], 17, 1]\n",
        "ce = [\"CE\", [], 10, 1]\n",
        "de = [\"DE\", [], 4, 1]\n",
        "dc = [\"DC\", [\"CE\"], 17, 1]\n",
        "\n",
        "arestas = [ab, ac, ae, bd, be, bc, cb, cd, ce, de, dc]"
      ]
    },
    {
      "cell_type": "markdown",
      "source": [
        "# Probabilidade de escolha de aresta adjacente"
      ],
      "metadata": {
        "id": "hifXRY7zzW8P"
      }
    },
    {
      "cell_type": "code",
      "source": [
        "def probabilidade(adjacentes):\n",
        "  distancias = []\n",
        "  feromonios = []\n",
        "  for i in adjacentes:\n",
        "    for j in arestas:\n",
        "      if j[0] == i:\n",
        "        distancias.append(j[2])\n",
        "        feromonios.append(j[3])\n",
        "  atratividades = []\n",
        "  for i in range(len(adjacentes)):\n",
        "    atract = feromonios[i] * (1/distancias[i])\n",
        "    atratividades.append(atract)\n",
        "\n",
        "  soma = sum(atratividades)\n",
        "  probs = []\n",
        "  for i in atratividades:\n",
        "    prob = i / soma\n",
        "    probs.append(prob)\n",
        "  return probs"
      ],
      "metadata": {
        "id": "GLBaxrefzZwX"
      },
      "execution_count": 253,
      "outputs": []
    },
    {
      "cell_type": "code",
      "source": [
        "probabilidade([\"AB\", \"AC\", \"AE\"])"
      ],
      "metadata": {
        "colab": {
          "base_uri": "https://localhost:8080/"
        },
        "id": "fQZiqzN61AWv",
        "outputId": "c8160157-f6b5-4012-e3fe-02e3f5c0d72c"
      },
      "execution_count": 254,
      "outputs": [
        {
          "output_type": "execute_result",
          "data": {
            "text/plain": [
              "[0.5, 0.41666666666666663, 0.08333333333333333]"
            ]
          },
          "metadata": {},
          "execution_count": 254
        }
      ]
    },
    {
      "cell_type": "markdown",
      "source": [
        "# Escolha de aresta adjacente"
      ],
      "metadata": {
        "id": "d-9rQBgq1jHn"
      }
    },
    {
      "cell_type": "code",
      "source": [
        "def escolha_aresta(adjacentes):\n",
        "  probs = probabilidade(adjacentes)\n",
        "  limiares = []\n",
        "  soma = 0\n",
        "  for i in probs:\n",
        "    soma += i\n",
        "    limiares.append(soma)\n",
        "\n",
        "  r = random.random()\n",
        "  cont = 0\n",
        "  for i in limiares:\n",
        "    if r > i:\n",
        "      cont += 1\n",
        "  return adjacentes[cont]"
      ],
      "metadata": {
        "id": "ks3UVjTk1lxY"
      },
      "execution_count": 255,
      "outputs": []
    },
    {
      "cell_type": "code",
      "source": [
        "print(probabilidade([\"AB\", \"AC\", \"AE\"]))\n",
        "escolha_aresta([\"AB\", \"AC\", \"AE\"])"
      ],
      "metadata": {
        "colab": {
          "base_uri": "https://localhost:8080/",
          "height": 53
        },
        "id": "b1RwTeTM3HhH",
        "outputId": "888becd4-b267-4cfe-a248-031386c537cb"
      },
      "execution_count": 256,
      "outputs": [
        {
          "output_type": "stream",
          "name": "stdout",
          "text": [
            "[0.5, 0.41666666666666663, 0.08333333333333333]\n"
          ]
        },
        {
          "output_type": "execute_result",
          "data": {
            "text/plain": [
              "'AB'"
            ],
            "application/vnd.google.colaboratory.intrinsic+json": {
              "type": "string"
            }
          },
          "metadata": {},
          "execution_count": 256
        }
      ]
    },
    {
      "cell_type": "markdown",
      "source": [
        "# Formiga/caminho"
      ],
      "metadata": {
        "id": "uRgVKYQ24P0X"
      }
    },
    {
      "cell_type": "code",
      "source": [
        "def formiga(): # Gera uma solução possível\n",
        "  caminho = []\n",
        "  iniciais = [ab, ac, ae]\n",
        "\n",
        "  # Escolhendo a aresta inicial\n",
        "  inicial = escolha_aresta([\"AB\", \"AC\", \"AE\"])\n",
        "  caminho.append(inicial)\n",
        "\n",
        "  if \"E\" in caminho:\n",
        "    return caminho\n",
        "  else:\n",
        "    while True:\n",
        "      for i in arestas:\n",
        "        if caminho[-1] == i[0]:\n",
        "          adj =i[1]\n",
        "          if len(adj) == 0:\n",
        "            break\n",
        "          else:\n",
        "            adj_random = escolha_aresta(adj)\n",
        "            caminho.append(adj_random)\n",
        "      return caminho\n",
        "      break"
      ],
      "metadata": {
        "id": "nI25kdD64Oto"
      },
      "execution_count": 257,
      "outputs": []
    },
    {
      "cell_type": "code",
      "source": [
        "formiga()"
      ],
      "metadata": {
        "colab": {
          "base_uri": "https://localhost:8080/"
        },
        "id": "wf-Npz8X5sBv",
        "outputId": "d37413f7-4fd6-4b13-eadf-7bef4628890c"
      },
      "execution_count": 258,
      "outputs": [
        {
          "output_type": "execute_result",
          "data": {
            "text/plain": [
              "['AC', 'CB', 'BE']"
            ]
          },
          "metadata": {},
          "execution_count": 258
        }
      ]
    },
    {
      "cell_type": "markdown",
      "source": [
        "# Comprimento do caminho"
      ],
      "metadata": {
        "id": "-4InJ8Qd55s_"
      }
    },
    {
      "cell_type": "code",
      "source": [
        "def comprimento(formiga):\n",
        "  soma = 0\n",
        "  for i in formiga:\n",
        "    for j in arestas:\n",
        "      if i == j[0]:\n",
        "        soma += j[2]\n",
        "  return soma"
      ],
      "metadata": {
        "id": "ISWGYtsn57rH"
      },
      "execution_count": 259,
      "outputs": []
    },
    {
      "cell_type": "code",
      "source": [
        "comprimento([\"AB\", \"BD\"])"
      ],
      "metadata": {
        "colab": {
          "base_uri": "https://localhost:8080/"
        },
        "id": "sKl_pjx46Od4",
        "outputId": "ba1be148-f3df-4696-e119-4ec0f02eea73"
      },
      "execution_count": 260,
      "outputs": [
        {
          "output_type": "execute_result",
          "data": {
            "text/plain": [
              "11"
            ]
          },
          "metadata": {},
          "execution_count": 260
        }
      ]
    },
    {
      "cell_type": "markdown",
      "source": [
        "# Evaporação e adição de feromônios"
      ],
      "metadata": {
        "id": "AwxfYQge6qi4"
      }
    },
    {
      "cell_type": "code",
      "source": [
        "def evaporacao(const_evap):\n",
        "  for i in arestas:\n",
        "    i[3] = i[3] * (1 - const_evap)"
      ],
      "metadata": {
        "id": "oyrLfosu6uGw"
      },
      "execution_count": 261,
      "outputs": []
    },
    {
      "cell_type": "code",
      "source": [
        "def atualiza_ferom(formigas):\n",
        "  for i in formigas:\n",
        "    ferom = 1 / comprimento(i)\n",
        "    for j in i:\n",
        "      for k in arestas:\n",
        "        if k[0] == j:\n",
        "          k[3] = k[3] + ferom"
      ],
      "metadata": {
        "id": "xX_0nuM97xeQ"
      },
      "execution_count": 262,
      "outputs": []
    },
    {
      "cell_type": "code",
      "source": [
        "for i in arestas:\n",
        "  print(i)"
      ],
      "metadata": {
        "colab": {
          "base_uri": "https://localhost:8080/"
        },
        "id": "kqvh3__V8Zaw",
        "outputId": "2cb666cc-deee-402e-e9d1-f6090d3be047"
      },
      "execution_count": 263,
      "outputs": [
        {
          "output_type": "stream",
          "name": "stdout",
          "text": [
            "['AB', ['BD', 'BE', 'BC'], 5, 1]\n",
            "['AC', ['CB', 'CD', 'CE'], 6, 1]\n",
            "['AE', [], 30, 1]\n",
            "['BD', ['DE', 'DC'], 6, 1]\n",
            "['BE', [], 16, 1]\n",
            "['BC', ['CD', 'CE'], 11, 1]\n",
            "['CB', ['BD', 'BE'], 11, 1]\n",
            "['CD', ['DE'], 17, 1]\n",
            "['CE', [], 10, 1]\n",
            "['DE', [], 4, 1]\n",
            "['DC', ['CE'], 17, 1]\n"
          ]
        }
      ]
    },
    {
      "cell_type": "code",
      "source": [
        "evaporacao(0.3)"
      ],
      "metadata": {
        "id": "GwDQMNPJ8c5I"
      },
      "execution_count": 264,
      "outputs": []
    },
    {
      "cell_type": "code",
      "source": [
        "for i in arestas:\n",
        "  print(i)"
      ],
      "metadata": {
        "colab": {
          "base_uri": "https://localhost:8080/"
        },
        "id": "ElsOSkVR8f3o",
        "outputId": "deee7bdf-2cf1-472d-d4a9-a1c6b66c5541"
      },
      "execution_count": 265,
      "outputs": [
        {
          "output_type": "stream",
          "name": "stdout",
          "text": [
            "['AB', ['BD', 'BE', 'BC'], 5, 0.7]\n",
            "['AC', ['CB', 'CD', 'CE'], 6, 0.7]\n",
            "['AE', [], 30, 0.7]\n",
            "['BD', ['DE', 'DC'], 6, 0.7]\n",
            "['BE', [], 16, 0.7]\n",
            "['BC', ['CD', 'CE'], 11, 0.7]\n",
            "['CB', ['BD', 'BE'], 11, 0.7]\n",
            "['CD', ['DE'], 17, 0.7]\n",
            "['CE', [], 10, 0.7]\n",
            "['DE', [], 4, 0.7]\n",
            "['DC', ['CE'], 17, 0.7]\n"
          ]
        }
      ]
    },
    {
      "cell_type": "code",
      "source": [
        "formigas = [[\"AB\", \"BD\"], [\"AE\"]]\n",
        "atualiza_ferom(formigas)"
      ],
      "metadata": {
        "id": "qPESrGub8hDo"
      },
      "execution_count": 266,
      "outputs": []
    },
    {
      "cell_type": "code",
      "source": [
        "for i in arestas:\n",
        "  print(i)"
      ],
      "metadata": {
        "colab": {
          "base_uri": "https://localhost:8080/"
        },
        "id": "laArc3EK8rA3",
        "outputId": "25b2b2cc-fac1-466f-d681-0ad59cae9d93"
      },
      "execution_count": 267,
      "outputs": [
        {
          "output_type": "stream",
          "name": "stdout",
          "text": [
            "['AB', ['BD', 'BE', 'BC'], 5, 0.7909090909090909]\n",
            "['AC', ['CB', 'CD', 'CE'], 6, 0.7]\n",
            "['AE', [], 30, 0.7333333333333333]\n",
            "['BD', ['DE', 'DC'], 6, 0.7909090909090909]\n",
            "['BE', [], 16, 0.7]\n",
            "['BC', ['CD', 'CE'], 11, 0.7]\n",
            "['CB', ['BD', 'BE'], 11, 0.7]\n",
            "['CD', ['DE'], 17, 0.7]\n",
            "['CE', [], 10, 0.7]\n",
            "['DE', [], 4, 0.7]\n",
            "['DC', ['CE'], 17, 0.7]\n"
          ]
        }
      ]
    },
    {
      "cell_type": "markdown",
      "source": [
        "# Colônia de formigas"
      ],
      "metadata": {
        "id": "aJK5bJtE82Nd"
      }
    },
    {
      "cell_type": "code",
      "source": [
        "def colonia_formigas(qte_formigas, iteracoes, taxa_evap=0.3):\n",
        "  for i in range(iteracoes):\n",
        "    evaporacao(taxa_evap)\n",
        "    formigas = [formiga() for _ in range(qte_formigas)]\n",
        "    atualiza_ferom(formigas)\n",
        "\n",
        "  for i in arestas:\n",
        "    print(i[0], i[3])\n",
        "\n",
        "  for k in formigas:\n",
        "    print(k)"
      ],
      "metadata": {
        "id": "RbAZprmq843Y"
      },
      "execution_count": 268,
      "outputs": []
    },
    {
      "cell_type": "code",
      "source": [
        "colonia_formigas(5, 10)"
      ],
      "metadata": {
        "colab": {
          "base_uri": "https://localhost:8080/"
        },
        "id": "u9ubLV6d-U_Y",
        "outputId": "271b898b-f2cb-4b3d-92cd-7b3b55f194c4"
      },
      "execution_count": 295,
      "outputs": [
        {
          "output_type": "stream",
          "name": "stdout",
          "text": [
            "AB 1.1424972498884383\n",
            "AC 2.354642861475673e-94\n",
            "AE 7.548596643467568e-100\n",
            "BD 1.1424972498884383\n",
            "BE 3.8276855140746396e-99\n",
            "BC 5.166885033883298e-98\n",
            "CB 1.3505883116530778e-99\n",
            "CD 6.0952150266715516e-99\n",
            "CE 2.3550915263628612e-94\n",
            "DE 1.1424972498884383\n",
            "DC 6.434417177735743e-100\n",
            "['AB', 'BD', 'DE']\n",
            "['AB', 'BD', 'DE']\n",
            "['AB', 'BD', 'DE']\n",
            "['AB', 'BD', 'DE']\n",
            "['AB', 'BD', 'DE']\n"
          ]
        }
      ]
    }
  ]
}
{
  "nbformat": 4,
  "nbformat_minor": 0,
  "metadata": {
    "colab": {
      "provenance": [],
      "authorship_tag": "ABX9TyNJ4aBaFeLjRxAh5dCXb5B1",
      "include_colab_link": true
    },
    "kernelspec": {
      "name": "python3",
      "display_name": "Python 3"
    },
    "language_info": {
      "name": "python"
    }
  },
  "cells": [
    {
      "cell_type": "markdown",
      "metadata": {
        "id": "view-in-github",
        "colab_type": "text"
      },
      "source": [
        "<a href=\"https://colab.research.google.com/github/VPivato/Algoritmos-Bioinspirados/blob/main/enxame_particulas.ipynb\" target=\"_parent\"><img src=\"https://colab.research.google.com/assets/colab-badge.svg\" alt=\"Open In Colab\"/></a>"
      ]
    },
    {
      "cell_type": "code",
      "execution_count": null,
      "metadata": {
        "id": "FQRhIC0jbS4d"
      },
      "outputs": [],
      "source": [
        "import random\n",
        "import numpy as np\n",
        "import matplotlib.pyplot as plt"
      ]
    },
    {
      "cell_type": "code",
      "source": [
        "c1 = 0.8 # Coeficiente cognitivo\n",
        "c2 = 0.8 # Coeficiente social\n",
        "w = 0.7 # Inércia"
      ],
      "metadata": {
        "id": "p8JboNxY1X35"
      },
      "execution_count": null,
      "outputs": []
    },
    {
      "cell_type": "markdown",
      "source": [
        "# Criação da particula"
      ],
      "metadata": {
        "id": "jaByY9XZstpz"
      }
    },
    {
      "cell_type": "code",
      "source": [
        "def particula():\n",
        "  while True:\n",
        "    particula = []\n",
        "    pos1 = []\n",
        "    pos2 = []\n",
        "    for i in range(6):\n",
        "      rand1 = random.randint(0, 3) + random.random() # Valor real de 0 a 4\n",
        "      rand2 = random.randint(0, 3) + random.random()\n",
        "      pos1.append(rand1)\n",
        "      pos2.append(rand2)\n",
        "    vel = [0,0,0,0,0,0]\n",
        "    particula.append(pos1)\n",
        "    particula.append(pos2)\n",
        "    particula.append(vel)\n",
        "    if sum(particula[0]) <= 13 and sum(particula[1]) <= 13:\n",
        "      return particula\n",
        "      break"
      ],
      "metadata": {
        "id": "jSZ-JasWsv3L"
      },
      "execution_count": null,
      "outputs": []
    },
    {
      "cell_type": "markdown",
      "source": [
        "# Geração da população"
      ],
      "metadata": {
        "id": "vWBQMA4Ot60S"
      }
    },
    {
      "cell_type": "code",
      "source": [
        "def populacao(quantidade):\n",
        "  particulas = [particula() for _ in range(quantidade)]\n",
        "  return particulas"
      ],
      "metadata": {
        "id": "Zms8B3-Xt8oq"
      },
      "execution_count": null,
      "outputs": []
    },
    {
      "cell_type": "markdown",
      "source": [
        "# Função de avaliação"
      ],
      "metadata": {
        "id": "HuIYMSTYujBC"
      }
    },
    {
      "cell_type": "code",
      "source": [
        "def avalia(particula, indice):\n",
        "  turma1 = [3, 2, 1, 2, 4, 2.5]\n",
        "  turma2 = [1, 4, 0, 2, 4, 1.5]\n",
        "  turma3 = [1.5, 2.5, 1, 2, 3.5, 1.5]\n",
        "  turmas = [turma1, turma2, turma3]\n",
        "  soma = 0\n",
        "\n",
        "  for turma in turmas:\n",
        "    for i in range(len(particula[indice])):\n",
        "      dupla = [particula[indice][i], turma[i]]\n",
        "      minimo = min(dupla)\n",
        "      soma += minimo\n",
        "  return soma / 39"
      ],
      "metadata": {
        "id": "7J5w_nFPul2b"
      },
      "execution_count": null,
      "outputs": []
    },
    {
      "cell_type": "code",
      "source": [
        "def avalia_simples(part):\n",
        "  turma1 = [3, 2, 1, 2, 4, 2.5]\n",
        "  turma2 = [1, 4, 0, 2, 4, 1.5]\n",
        "  turma3 = [1.5, 2.5, 1, 2, 3.5, 1.5]\n",
        "  turmas = [turma1, turma2, turma3]\n",
        "  soma = 0\n",
        "\n",
        "  for turma in turmas:\n",
        "    for i in range(len(part)):\n",
        "      dupla = [part[i], turma[i]]\n",
        "      minimo = min(dupla)\n",
        "      soma += minimo\n",
        "  return soma / 39"
      ],
      "metadata": {
        "id": "3pmUtsGU0HpB"
      },
      "execution_count": null,
      "outputs": []
    },
    {
      "cell_type": "markdown",
      "source": [
        "# melhor posição individual - pbest"
      ],
      "metadata": {
        "id": "_YnKcXDCxF0J"
      }
    },
    {
      "cell_type": "code",
      "source": [
        "def pbest(particula):\n",
        "  melhor = []\n",
        "  valores = []\n",
        "  for i in range(2):\n",
        "    if i == 0:\n",
        "      melhor = particula[0]\n",
        "    elif i == 1:\n",
        "      if avalia(particula, i) > avalia(particula, 0):\n",
        "        melhor = particula[1]\n",
        "  return melhor"
      ],
      "metadata": {
        "id": "8XBqSwWXxIaC"
      },
      "execution_count": null,
      "outputs": []
    },
    {
      "cell_type": "markdown",
      "source": [
        "# Melhor global - gbest"
      ],
      "metadata": {
        "id": "Ovbdt7anyZ5Z"
      }
    },
    {
      "cell_type": "code",
      "source": [
        "def gbest(populacao_gerada):\n",
        "  pbests = []\n",
        "  for i in populacao_gerada:\n",
        "    pbests.append(pbest(i))\n",
        "  gbest = []\n",
        "\n",
        "  cont = 0\n",
        "  for indice in pbests:\n",
        "    if cont == 0:\n",
        "      gbest = pbests[0]\n",
        "      cont += 1\n",
        "    else:\n",
        "      if avalia_simples(indice) > avalia_simples(gbest):\n",
        "        gbest = indice\n",
        "  return gbest"
      ],
      "metadata": {
        "id": "xdRo1eXJyeMJ"
      },
      "execution_count": null,
      "outputs": []
    },
    {
      "cell_type": "markdown",
      "source": [
        "# Atualização da velocidade da particula"
      ],
      "metadata": {
        "id": "C1m57nm61RLQ"
      }
    },
    {
      "cell_type": "code",
      "source": [
        "def nova_velocidade(part, pop):\n",
        "  r1 = random.random()\n",
        "  r2 = random.random()\n",
        "  vel = part[2]\n",
        "  nova_vel = w * np.array(vel) + c1*r1*(np.array(pbest(part)) - np.array(part[1])) + c2*r2*(np.array(gbest(pop)) - np.array(part[1]))\n",
        "  return nova_vel"
      ],
      "metadata": {
        "id": "UNPwOxsp2OKA"
      },
      "execution_count": null,
      "outputs": []
    },
    {
      "cell_type": "markdown",
      "source": [
        "# Nova posição e nova particula"
      ],
      "metadata": {
        "id": "993AW1TO3mhA"
      }
    },
    {
      "cell_type": "code",
      "source": [
        "def nova_posicao(p, pop):\n",
        "  n_vel = nova_velocidade(p, pop)\n",
        "  nova = p[1] + n_vel\n",
        "\n",
        "  # Garante que cada valor esteja no intervalo [0, 4]\n",
        "  nova = np.clip(nova, 0, 4)\n",
        "  # # Se a soma for maior que 13, normaliza proporcionalmente\n",
        "  if sum(nova) > 13:\n",
        "    fator = 13 / sum(nova)\n",
        "    nova = nova * fator\n",
        "\n",
        "  return nova"
      ],
      "metadata": {
        "id": "aH9VhX1U3pi4"
      },
      "execution_count": null,
      "outputs": []
    },
    {
      "cell_type": "code",
      "source": [
        "def nova_particula(p, pop):\n",
        "  nova_p = [np.array(p[0]), nova_posicao(p, pop), nova_velocidade(p, pop)]\n",
        "  return nova_p"
      ],
      "metadata": {
        "id": "pT468uNK3z_w"
      },
      "execution_count": null,
      "outputs": []
    },
    {
      "cell_type": "markdown",
      "source": [
        "# Enxame de particulas"
      ],
      "metadata": {
        "id": "C1i4f35Z4vEI"
      }
    },
    {
      "cell_type": "code",
      "source": [
        "def enxame_particulas(tamanho_populacao, iteracoes, coef_cognitivo=0.8, coef_social=0.8, inercia=0.7, mostrar_dados=False, mostrar_grafico=False):\n",
        "  population = populacao(tamanho_populacao)\n",
        "  grafico = []\n",
        "\n",
        "  for i in range(iteracoes):\n",
        "    melhor = [round(float(i), 2) for i in gbest(population)]\n",
        "    nova_populacao = []\n",
        "    for j in population:\n",
        "      nova_part = nova_particula(j, population)\n",
        "      nova_populacao.append(nova_part)\n",
        "\n",
        "    population = nova_populacao\n",
        "    grafico.append(avalia_simples(melhor))\n",
        "\n",
        "    if mostrar_dados:\n",
        "      print(f\"----- Iteração {i+1} -----\")\n",
        "      print(melhor)\n",
        "      print(f\"{avalia_simples(melhor):.2%} - {sum(melhor):.2f}/13h\")\n",
        "      print()\n",
        "\n",
        "    if mostrar_grafico:\n",
        "      plt.plot(grafico)\n",
        "      plt.title(\"Evolução aproveitamento x iteração\")\n",
        "      plt.xlabel(\"Iteração\")\n",
        "      plt.ylabel(\"Aproveitamento (%)\")\n",
        "  return melhor"
      ],
      "metadata": {
        "id": "29_u_2WX4yP4"
      },
      "execution_count": null,
      "outputs": []
    },
    {
      "cell_type": "code",
      "source": [
        "sol = enxame_particulas(20, 100, coef_cognitivo=c1, coef_social=c2, inercia=w, mostrar_dados=True, mostrar_grafico=True)"
      ],
      "metadata": {
        "colab": {
          "base_uri": "https://localhost:8080/",
          "height": 1000
        },
        "id": "pKs6-iViBQHV",
        "outputId": "8c693654-0e59-41ff-9702-2f1c7f14cb33"
      },
      "execution_count": null,
      "outputs": [
        {
          "output_type": "stream",
          "name": "stdout",
          "text": [
            "----- Iteração 1 -----\n",
            "[2.45, 1.38, 1.53, 2.22, 2.46, 2.5]\n",
            "76.85% - 12.54/13h\n",
            "\n",
            "----- Iteração 2 -----\n",
            "[2.83, 1.85, 0.96, 1.35, 3.03, 1.81]\n",
            "78.85% - 11.83/13h\n",
            "\n",
            "----- Iteração 3 -----\n",
            "[2.75, 2.17, 1.35, 1.84, 2.91, 1.5]\n",
            "82.92% - 12.52/13h\n",
            "\n",
            "----- Iteração 4 -----\n",
            "[2.79, 2.11, 0.87, 2.24, 2.39, 2.6]\n",
            "81.85% - 13.00/13h\n",
            "\n",
            "----- Iteração 5 -----\n",
            "[3.0, 2.16, 0.65, 2.23, 2.7, 2.26]\n",
            "83.28% - 13.00/13h\n",
            "\n",
            "----- Iteração 6 -----\n",
            "[2.71, 2.05, 0.97, 1.9, 3.19, 2.14]\n",
            "86.31% - 12.96/13h\n",
            "\n",
            "----- Iteração 7 -----\n",
            "[2.8, 2.21, 0.91, 1.99, 3.09, 1.99]\n",
            "86.59% - 12.99/13h\n",
            "\n",
            "----- Iteração 8 -----\n",
            "[2.53, 2.17, 1.01, 2.24, 3.48, 1.56]\n",
            "88.13% - 12.99/13h\n",
            "\n",
            "----- Iteração 9 -----\n",
            "[2.28, 2.39, 1.03, 1.8, 3.49, 2.01]\n",
            "88.31% - 13.00/13h\n",
            "\n",
            "----- Iteração 10 -----\n",
            "[2.31, 2.21, 0.92, 1.88, 3.95, 1.74]\n",
            "89.36% - 13.01/13h\n",
            "\n",
            "----- Iteração 11 -----\n",
            "[2.12, 2.31, 1.01, 1.83, 3.94, 1.79]\n",
            "89.49% - 13.00/13h\n",
            "\n",
            "----- Iteração 12 -----\n",
            "[2.09, 2.16, 0.95, 2.0, 4.0, 1.8]\n",
            "90.03% - 13.00/13h\n",
            "\n",
            "----- Iteração 13 -----\n",
            "[2.02, 2.23, 1.04, 2.0, 3.99, 1.72]\n",
            "90.21% - 13.00/13h\n",
            "\n",
            "----- Iteração 14 -----\n",
            "[2.05, 2.21, 1.01, 2.0, 4.0, 1.69]\n",
            "90.15% - 12.96/13h\n",
            "\n",
            "----- Iteração 15 -----\n",
            "[2.13, 2.31, 0.93, 2.01, 4.0, 1.55]\n",
            "90.15% - 12.93/13h\n",
            "\n",
            "----- Iteração 16 -----\n",
            "[2.06, 2.26, 1.0, 2.0, 4.0, 1.58]\n",
            "90.15% - 12.90/13h\n",
            "\n",
            "----- Iteração 17 -----\n",
            "[2.17, 2.35, 0.89, 2.01, 3.98, 1.59]\n",
            "90.26% - 12.99/13h\n",
            "\n",
            "----- Iteração 18 -----\n",
            "[2.24, 2.24, 0.99, 2.01, 4.0, 1.52]\n",
            "90.31% - 13.00/13h\n",
            "\n",
            "----- Iteração 19 -----\n",
            "[2.29, 2.23, 1.0, 1.99, 4.0, 1.49]\n",
            "90.23% - 13.00/13h\n",
            "\n",
            "----- Iteração 20 -----\n",
            "[2.26, 2.28, 0.95, 2.0, 3.99, 1.51]\n",
            "90.28% - 12.99/13h\n",
            "\n",
            "----- Iteração 21 -----\n",
            "[2.22, 2.38, 0.92, 1.99, 4.0, 1.49]\n",
            "90.41% - 13.00/13h\n",
            "\n",
            "----- Iteração 22 -----\n",
            "[2.22, 2.41, 0.89, 1.97, 4.0, 1.51]\n",
            "90.36% - 13.00/13h\n",
            "\n",
            "----- Iteração 23 -----\n",
            "[2.21, 2.38, 0.92, 2.0, 3.99, 1.51]\n",
            "90.51% - 13.01/13h\n",
            "\n",
            "----- Iteração 24 -----\n",
            "[2.17, 2.46, 0.88, 2.0, 4.0, 1.5]\n",
            "90.64% - 13.01/13h\n",
            "\n",
            "----- Iteração 25 -----\n",
            "[2.11, 2.51, 0.86, 2.0, 3.99, 1.52]\n",
            "90.62% - 12.99/13h\n",
            "\n",
            "----- Iteração 26 -----\n",
            "[2.11, 2.49, 0.87, 2.0, 3.99, 1.54]\n",
            "90.64% - 13.00/13h\n",
            "\n",
            "----- Iteração 27 -----\n",
            "[2.09, 2.52, 0.86, 2.0, 3.99, 1.54]\n",
            "90.64% - 13.00/13h\n",
            "\n",
            "----- Iteração 28 -----\n",
            "[2.06, 2.53, 0.86, 2.0, 4.0, 1.54]\n",
            "90.64% - 12.99/13h\n",
            "\n",
            "----- Iteração 29 -----\n",
            "[2.08, 2.5, 0.89, 2.0, 3.99, 1.55]\n",
            "90.74% - 13.01/13h\n",
            "\n",
            "----- Iteração 30 -----\n",
            "[2.07, 2.5, 0.89, 2.0, 4.0, 1.55]\n",
            "90.77% - 13.01/13h\n",
            "\n",
            "----- Iteração 31 -----\n",
            "[2.05, 2.5, 0.9, 2.0, 4.0, 1.55]\n",
            "90.77% - 13.00/13h\n",
            "\n",
            "----- Iteração 32 -----\n",
            "[2.04, 2.49, 0.92, 2.0, 4.0, 1.55]\n",
            "90.79% - 13.00/13h\n",
            "\n",
            "----- Iteração 33 -----\n",
            "[2.04, 2.48, 0.93, 2.0, 4.0, 1.55]\n",
            "90.79% - 13.00/13h\n",
            "\n",
            "----- Iteração 34 -----\n",
            "[2.03, 2.47, 0.94, 2.0, 4.0, 1.55]\n",
            "90.77% - 12.99/13h\n",
            "\n",
            "----- Iteração 35 -----\n",
            "[2.03, 2.5, 0.93, 2.0, 4.0, 1.55]\n",
            "90.87% - 13.01/13h\n",
            "\n",
            "----- Iteração 36 -----\n",
            "[2.02, 2.49, 0.95, 2.0, 4.0, 1.54]\n",
            "90.87% - 13.00/13h\n",
            "\n",
            "----- Iteração 37 -----\n",
            "[2.02, 2.5, 0.95, 2.0, 4.0, 1.54]\n",
            "90.92% - 13.01/13h\n",
            "\n",
            "----- Iteração 38 -----\n",
            "[2.01, 2.5, 0.95, 2.0, 4.0, 1.54]\n",
            "90.90% - 13.00/13h\n",
            "\n",
            "----- Iteração 39 -----\n",
            "[2.01, 2.5, 0.95, 2.0, 4.0, 1.54]\n",
            "90.90% - 13.00/13h\n",
            "\n",
            "----- Iteração 40 -----\n",
            "[2.01, 2.5, 0.96, 2.0, 4.0, 1.53]\n",
            "90.92% - 13.00/13h\n",
            "\n",
            "----- Iteração 41 -----\n",
            "[2.0, 2.5, 0.96, 2.0, 4.0, 1.53]\n",
            "90.90% - 12.99/13h\n",
            "\n",
            "----- Iteração 42 -----\n",
            "[2.01, 2.5, 0.96, 2.0, 4.0, 1.53]\n",
            "90.92% - 13.00/13h\n",
            "\n",
            "----- Iteração 43 -----\n",
            "[2.01, 2.5, 0.97, 2.0, 4.0, 1.52]\n",
            "90.95% - 13.00/13h\n",
            "\n",
            "----- Iteração 44 -----\n",
            "[2.01, 2.5, 0.97, 2.0, 4.0, 1.52]\n",
            "90.95% - 13.00/13h\n",
            "\n",
            "----- Iteração 45 -----\n",
            "[2.01, 2.5, 0.97, 2.0, 4.0, 1.52]\n",
            "90.95% - 13.00/13h\n",
            "\n",
            "----- Iteração 46 -----\n",
            "[2.01, 2.5, 0.98, 2.0, 4.0, 1.52]\n",
            "91.00% - 13.01/13h\n",
            "\n",
            "----- Iteração 47 -----\n",
            "[2.01, 2.5, 0.98, 2.0, 4.0, 1.52]\n",
            "91.00% - 13.01/13h\n",
            "\n",
            "----- Iteração 48 -----\n",
            "[2.01, 2.5, 0.98, 2.0, 4.0, 1.51]\n",
            "90.97% - 13.00/13h\n",
            "\n",
            "----- Iteração 49 -----\n",
            "[2.0, 2.5, 0.98, 2.0, 4.0, 1.52]\n",
            "90.97% - 13.00/13h\n",
            "\n",
            "----- Iteração 50 -----\n",
            "[2.01, 2.5, 0.98, 2.0, 4.0, 1.51]\n",
            "90.97% - 13.00/13h\n",
            "\n",
            "----- Iteração 51 -----\n",
            "[2.0, 2.5, 0.98, 2.0, 4.0, 1.51]\n",
            "90.95% - 12.99/13h\n",
            "\n",
            "----- Iteração 52 -----\n",
            "[2.0, 2.5, 0.98, 2.0, 4.0, 1.51]\n",
            "90.95% - 12.99/13h\n",
            "\n",
            "----- Iteração 53 -----\n",
            "[2.0, 2.5, 0.98, 2.0, 4.0, 1.51]\n",
            "90.95% - 12.99/13h\n",
            "\n",
            "----- Iteração 54 -----\n",
            "[2.0, 2.5, 0.99, 2.0, 4.0, 1.51]\n",
            "91.00% - 13.00/13h\n",
            "\n",
            "----- Iteração 55 -----\n",
            "[2.0, 2.5, 0.99, 2.0, 4.0, 1.51]\n",
            "91.00% - 13.00/13h\n",
            "\n",
            "----- Iteração 56 -----\n",
            "[2.0, 2.5, 0.99, 2.0, 4.0, 1.51]\n",
            "91.00% - 13.00/13h\n",
            "\n",
            "----- Iteração 57 -----\n",
            "[2.0, 2.5, 0.99, 2.0, 4.0, 1.51]\n",
            "91.00% - 13.00/13h\n",
            "\n",
            "----- Iteração 58 -----\n",
            "[2.0, 2.5, 0.99, 2.0, 4.0, 1.51]\n",
            "91.00% - 13.00/13h\n",
            "\n",
            "----- Iteração 59 -----\n",
            "[2.0, 2.5, 0.99, 2.0, 4.0, 1.51]\n",
            "91.00% - 13.00/13h\n",
            "\n",
            "----- Iteração 60 -----\n",
            "[2.0, 2.5, 0.99, 2.0, 4.0, 1.51]\n",
            "91.00% - 13.00/13h\n",
            "\n",
            "----- Iteração 61 -----\n",
            "[2.0, 2.5, 0.99, 2.0, 4.0, 1.51]\n",
            "91.00% - 13.00/13h\n",
            "\n",
            "----- Iteração 62 -----\n",
            "[2.0, 2.5, 0.99, 2.0, 4.0, 1.51]\n",
            "91.00% - 13.00/13h\n",
            "\n",
            "----- Iteração 63 -----\n",
            "[2.0, 2.5, 0.99, 2.0, 4.0, 1.51]\n",
            "91.00% - 13.00/13h\n",
            "\n",
            "----- Iteração 64 -----\n",
            "[2.0, 2.5, 0.99, 2.0, 4.0, 1.51]\n",
            "91.00% - 13.00/13h\n",
            "\n",
            "----- Iteração 65 -----\n",
            "[2.0, 2.5, 0.99, 2.0, 4.0, 1.51]\n",
            "91.00% - 13.00/13h\n",
            "\n",
            "----- Iteração 66 -----\n",
            "[2.0, 2.5, 0.99, 2.0, 4.0, 1.51]\n",
            "91.00% - 13.00/13h\n",
            "\n",
            "----- Iteração 67 -----\n",
            "[2.0, 2.5, 0.99, 2.0, 4.0, 1.51]\n",
            "91.00% - 13.00/13h\n",
            "\n",
            "----- Iteração 68 -----\n",
            "[2.0, 2.5, 0.99, 2.0, 4.0, 1.51]\n",
            "91.00% - 13.00/13h\n",
            "\n",
            "----- Iteração 69 -----\n",
            "[2.0, 2.5, 0.99, 2.0, 4.0, 1.51]\n",
            "91.00% - 13.00/13h\n",
            "\n",
            "----- Iteração 70 -----\n",
            "[2.0, 2.5, 0.99, 2.0, 4.0, 1.51]\n",
            "91.00% - 13.00/13h\n",
            "\n",
            "----- Iteração 71 -----\n",
            "[2.0, 2.5, 0.99, 2.0, 4.0, 1.51]\n",
            "91.00% - 13.00/13h\n",
            "\n",
            "----- Iteração 72 -----\n",
            "[2.0, 2.5, 0.99, 2.0, 4.0, 1.51]\n",
            "91.00% - 13.00/13h\n",
            "\n",
            "----- Iteração 73 -----\n",
            "[2.0, 2.5, 0.99, 2.0, 4.0, 1.51]\n",
            "91.00% - 13.00/13h\n",
            "\n",
            "----- Iteração 74 -----\n",
            "[2.0, 2.5, 0.99, 2.0, 4.0, 1.51]\n",
            "91.00% - 13.00/13h\n",
            "\n",
            "----- Iteração 75 -----\n",
            "[2.0, 2.5, 0.99, 2.0, 4.0, 1.51]\n",
            "91.00% - 13.00/13h\n",
            "\n",
            "----- Iteração 76 -----\n",
            "[2.0, 2.5, 0.99, 2.0, 4.0, 1.51]\n",
            "91.00% - 13.00/13h\n",
            "\n",
            "----- Iteração 77 -----\n",
            "[2.0, 2.5, 0.99, 2.0, 4.0, 1.51]\n",
            "91.00% - 13.00/13h\n",
            "\n",
            "----- Iteração 78 -----\n",
            "[2.0, 2.5, 0.99, 2.0, 4.0, 1.51]\n",
            "91.00% - 13.00/13h\n",
            "\n",
            "----- Iteração 79 -----\n",
            "[2.0, 2.5, 0.99, 2.0, 4.0, 1.51]\n",
            "91.00% - 13.00/13h\n",
            "\n",
            "----- Iteração 80 -----\n",
            "[2.0, 2.5, 0.99, 2.0, 4.0, 1.51]\n",
            "91.00% - 13.00/13h\n",
            "\n",
            "----- Iteração 81 -----\n",
            "[2.0, 2.5, 0.99, 2.0, 4.0, 1.51]\n",
            "91.00% - 13.00/13h\n",
            "\n",
            "----- Iteração 82 -----\n",
            "[2.0, 2.5, 0.99, 2.0, 4.0, 1.51]\n",
            "91.00% - 13.00/13h\n",
            "\n",
            "----- Iteração 83 -----\n",
            "[2.0, 2.5, 0.99, 2.0, 4.0, 1.51]\n",
            "91.00% - 13.00/13h\n",
            "\n",
            "----- Iteração 84 -----\n",
            "[2.0, 2.5, 0.99, 2.0, 4.0, 1.51]\n",
            "91.00% - 13.00/13h\n",
            "\n",
            "----- Iteração 85 -----\n",
            "[2.0, 2.5, 0.99, 2.0, 4.0, 1.51]\n",
            "91.00% - 13.00/13h\n",
            "\n",
            "----- Iteração 86 -----\n",
            "[2.0, 2.5, 0.99, 2.0, 4.0, 1.51]\n",
            "91.00% - 13.00/13h\n",
            "\n",
            "----- Iteração 87 -----\n",
            "[2.0, 2.5, 0.99, 2.0, 4.0, 1.51]\n",
            "91.00% - 13.00/13h\n",
            "\n",
            "----- Iteração 88 -----\n",
            "[2.0, 2.5, 0.99, 2.0, 4.0, 1.51]\n",
            "91.00% - 13.00/13h\n",
            "\n",
            "----- Iteração 89 -----\n",
            "[2.0, 2.5, 0.99, 2.0, 4.0, 1.51]\n",
            "91.00% - 13.00/13h\n",
            "\n",
            "----- Iteração 90 -----\n",
            "[2.0, 2.5, 1.0, 2.0, 4.0, 1.51]\n",
            "91.05% - 13.01/13h\n",
            "\n",
            "----- Iteração 91 -----\n",
            "[2.0, 2.5, 1.0, 2.0, 4.0, 1.51]\n",
            "91.05% - 13.01/13h\n",
            "\n",
            "----- Iteração 92 -----\n",
            "[2.0, 2.5, 1.0, 2.0, 4.0, 1.51]\n",
            "91.05% - 13.01/13h\n",
            "\n",
            "----- Iteração 93 -----\n",
            "[2.0, 2.5, 1.0, 2.0, 4.0, 1.51]\n",
            "91.05% - 13.01/13h\n",
            "\n",
            "----- Iteração 94 -----\n",
            "[2.0, 2.5, 1.0, 2.0, 4.0, 1.51]\n",
            "91.05% - 13.01/13h\n",
            "\n",
            "----- Iteração 95 -----\n",
            "[2.0, 2.5, 1.0, 2.0, 4.0, 1.51]\n",
            "91.05% - 13.01/13h\n",
            "\n",
            "----- Iteração 96 -----\n",
            "[2.0, 2.5, 1.0, 2.0, 4.0, 1.51]\n",
            "91.05% - 13.01/13h\n",
            "\n",
            "----- Iteração 97 -----\n",
            "[2.0, 2.5, 1.0, 2.0, 4.0, 1.51]\n",
            "91.05% - 13.01/13h\n",
            "\n",
            "----- Iteração 98 -----\n",
            "[2.0, 2.5, 1.0, 2.0, 4.0, 1.51]\n",
            "91.05% - 13.01/13h\n",
            "\n",
            "----- Iteração 99 -----\n",
            "[2.0, 2.5, 1.0, 2.0, 4.0, 1.51]\n",
            "91.05% - 13.01/13h\n",
            "\n",
            "----- Iteração 100 -----\n",
            "[2.0, 2.5, 1.0, 2.0, 4.0, 1.51]\n",
            "91.05% - 13.01/13h\n",
            "\n"
          ]
        },
        {
          "output_type": "display_data",
          "data": {
            "text/plain": [
              "<Figure size 640x480 with 1 Axes>"
            ],
            "image/png": "[encoded data removed]"
          },
          "metadata": {}
        }
      ]
    }
  ]
}